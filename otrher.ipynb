{
 "cells": [
  {
   "cell_type": "code",
   "execution_count": 4,
   "id": "26b98f2e",
   "metadata": {},
   "outputs": [
    {
     "name": "stdout",
     "output_type": "stream",
     "text": [
      "Frequency: 5.00 GHz\n",
      "Wavelength: 0.0600 m\n",
      "Rayleigh distance: 5.88 m\n",
      "Rayleigh distance (with RIS): 38.92 m\n"
     ]
    }
   ],
   "source": [
    "from lib import *\n",
    "import numpy as np\n",
    "import matplotlib.pyplot as plt\n",
    "\n",
    "# 計算 Rayleigh 距離\n",
    "freq = 5e9 #GHz\n",
    "c = 3e8  # 光速 (m/s)\n",
    "wavelength = c / freq\n",
    "Nt = 8 # number of transmit antennas\n",
    "Nr = 8 # number of receive antennas\n",
    "RIS_elements = (30, 2) # RIS elements in (rows, columns)\n",
    "d = wavelength/2  # antenna spacing (m)\n",
    "tx_pos = np.array([[m * d, 0, 0] for m in range(Nt)])  # ULA on x-axis\n",
    "\n",
    "Dt = d * (Nt - 1)  # Transmit array aperture\n",
    "Dr = d * (Nr - 1)  # Receive array aperture\n",
    "D_RIS = d * np.sqrt(((RIS_elements[0] - 1))**2 + (RIS_elements[1] - 1)**2)  # RIS aperture (assuming square RIS)\n",
    "\n",
    "Rayleigh_distance_BU = 2 * (Dt + Dr)**2 / wavelength\n",
    "Rayleigh_distance_BR = 2 * (D_RIS + Dt)**2 / wavelength\n",
    "\n",
    "print(f\"Frequency: {freq/1e9:.2f} GHz\")\n",
    "print(f\"Wavelength: {wavelength:.4f} m\")\n",
    "print(f\"Rayleigh distance: {Rayleigh_distance_BU:.2f} m\")\n",
    "print(f\"Rayleigh distance (with RIS): {Rayleigh_distance_BR:.2f} m\")"
   ]
  }
 ],
 "metadata": {
  "kernelspec": {
   "display_name": "base",
   "language": "python",
   "name": "python3"
  },
  "language_info": {
   "codemirror_mode": {
    "name": "ipython",
    "version": 3
   },
   "file_extension": ".py",
   "mimetype": "text/x-python",
   "name": "python",
   "nbconvert_exporter": "python",
   "pygments_lexer": "ipython3",
   "version": "3.12.3"
  }
 },
 "nbformat": 4,
 "nbformat_minor": 5
}
